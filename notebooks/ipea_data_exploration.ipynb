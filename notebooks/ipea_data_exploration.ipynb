{
 "cells": [
  {
   "cell_type": "code",
   "execution_count": 46,
   "metadata": {},
   "outputs": [],
   "source": [
    "import ipeadatapy as idpy\n",
    "import pandas as pd"
   ]
  },
  {
   "cell_type": "code",
   "execution_count": 9,
   "metadata": {},
   "outputs": [
    {
     "data": {
      "text/html": [
       "<div>\n",
       "<style scoped>\n",
       "    .dataframe tbody tr th:only-of-type {\n",
       "        vertical-align: middle;\n",
       "    }\n",
       "\n",
       "    .dataframe tbody tr th {\n",
       "        vertical-align: top;\n",
       "    }\n",
       "\n",
       "    .dataframe thead th {\n",
       "        text-align: right;\n",
       "    }\n",
       "</style>\n",
       "<table border=\"1\" class=\"dataframe\">\n",
       "  <thead>\n",
       "    <tr style=\"text-align: right;\">\n",
       "      <th></th>\n",
       "      <th>CODE</th>\n",
       "      <th>NAME</th>\n",
       "    </tr>\n",
       "  </thead>\n",
       "  <tbody>\n",
       "    <tr>\n",
       "      <th>5890</th>\n",
       "      <td>EIA366_PBRENT366</td>\n",
       "      <td>Preço - petróleo bruto - Brent (FOB)</td>\n",
       "    </tr>\n",
       "  </tbody>\n",
       "</table>\n",
       "</div>"
      ],
      "text/plain": [
       "                  CODE                                  NAME\n",
       "5890  EIA366_PBRENT366  Preço - petróleo bruto - Brent (FOB)"
      ]
     },
     "execution_count": 9,
     "metadata": {},
     "output_type": "execute_result"
    }
   ],
   "source": [
    "idpy.list_series(code=\"EIA366_PBRENT366\")"
   ]
  },
  {
   "cell_type": "code",
   "execution_count": 11,
   "metadata": {},
   "outputs": [
    {
     "data": {
      "text/html": [
       "<div>\n",
       "<style scoped>\n",
       "    .dataframe tbody tr th:only-of-type {\n",
       "        vertical-align: middle;\n",
       "    }\n",
       "\n",
       "    .dataframe tbody tr th {\n",
       "        vertical-align: top;\n",
       "    }\n",
       "\n",
       "    .dataframe thead th {\n",
       "        text-align: right;\n",
       "    }\n",
       "</style>\n",
       "<table border=\"1\" class=\"dataframe\">\n",
       "  <thead>\n",
       "    <tr style=\"text-align: right;\">\n",
       "      <th></th>\n",
       "      <th>Preço - petróleo bruto - Brent (FOB)</th>\n",
       "    </tr>\n",
       "  </thead>\n",
       "  <tbody>\n",
       "    <tr>\n",
       "      <th>Name</th>\n",
       "      <td>Preço - petróleo bruto - Brent (FOB)</td>\n",
       "    </tr>\n",
       "    <tr>\n",
       "      <th>Code</th>\n",
       "      <td>EIA366_PBRENT366</td>\n",
       "    </tr>\n",
       "    <tr>\n",
       "      <th>Big Theme</th>\n",
       "      <td>Macroeconômico</td>\n",
       "    </tr>\n",
       "    <tr>\n",
       "      <th>Theme code</th>\n",
       "      <td>11</td>\n",
       "    </tr>\n",
       "    <tr>\n",
       "      <th>Source</th>\n",
       "      <td>Energy Information Administration (EIA)</td>\n",
       "    </tr>\n",
       "    <tr>\n",
       "      <th>Source acronym</th>\n",
       "      <td>EIA</td>\n",
       "    </tr>\n",
       "    <tr>\n",
       "      <th>Comment</th>\n",
       "      <td>Preço por barril do petróleo bruto tipo Brent....</td>\n",
       "    </tr>\n",
       "    <tr>\n",
       "      <th>Last update</th>\n",
       "      <td>2024-01-10T15:48:01.25-03:00</td>\n",
       "    </tr>\n",
       "    <tr>\n",
       "      <th>Frequency</th>\n",
       "      <td>Diária</td>\n",
       "    </tr>\n",
       "    <tr>\n",
       "      <th>Measure</th>\n",
       "      <td>US$</td>\n",
       "    </tr>\n",
       "    <tr>\n",
       "      <th>Unit</th>\n",
       "      <td>None</td>\n",
       "    </tr>\n",
       "    <tr>\n",
       "      <th>Status</th>\n",
       "      <td>A</td>\n",
       "    </tr>\n",
       "  </tbody>\n",
       "</table>\n",
       "</div>"
      ],
      "text/plain": [
       "                             Preço - petróleo bruto - Brent (FOB)\n",
       "Name                         Preço - petróleo bruto - Brent (FOB)\n",
       "Code                                             EIA366_PBRENT366\n",
       "Big Theme                                          Macroeconômico\n",
       "Theme code                                                     11\n",
       "Source                    Energy Information Administration (EIA)\n",
       "Source acronym                                                EIA\n",
       "Comment         Preço por barril do petróleo bruto tipo Brent....\n",
       "Last update                          2024-01-10T15:48:01.25-03:00\n",
       "Frequency                                                  Diária\n",
       "Measure                                                       US$\n",
       "Unit                                                         None\n",
       "Status                                                          A"
      ]
     },
     "execution_count": 11,
     "metadata": {},
     "output_type": "execute_result"
    }
   ],
   "source": [
    "idpy.describe(\"EIA366_PBRENT366\")"
   ]
  },
  {
   "cell_type": "code",
   "execution_count": 17,
   "metadata": {},
   "outputs": [
    {
     "data": {
      "text/html": [
       "<div>\n",
       "<style scoped>\n",
       "    .dataframe tbody tr th:only-of-type {\n",
       "        vertical-align: middle;\n",
       "    }\n",
       "\n",
       "    .dataframe tbody tr th {\n",
       "        vertical-align: top;\n",
       "    }\n",
       "\n",
       "    .dataframe thead th {\n",
       "        text-align: right;\n",
       "    }\n",
       "</style>\n",
       "<table border=\"1\" class=\"dataframe\">\n",
       "  <thead>\n",
       "    <tr style=\"text-align: right;\">\n",
       "      <th></th>\n",
       "      <th>CODE</th>\n",
       "      <th>NAME</th>\n",
       "      <th>COMMENT</th>\n",
       "      <th>LAST UPDATE</th>\n",
       "      <th>BIG THEME</th>\n",
       "      <th>SOURCE ACRONYM</th>\n",
       "      <th>SOURCE</th>\n",
       "      <th>SOURCE URL</th>\n",
       "      <th>FREQUENCY</th>\n",
       "      <th>MEASURE</th>\n",
       "      <th>UNIT</th>\n",
       "      <th>SERIES STATUS</th>\n",
       "      <th>THEME CODE</th>\n",
       "      <th>COUNTRY</th>\n",
       "      <th>NUMERICA</th>\n",
       "    </tr>\n",
       "  </thead>\n",
       "  <tbody>\n",
       "    <tr>\n",
       "      <th>0</th>\n",
       "      <td>EIA366_PBRENT366</td>\n",
       "      <td>Preço - petróleo bruto - Brent (FOB)</td>\n",
       "      <td>Preço por barril do petróleo bruto tipo Brent....</td>\n",
       "      <td>2024-01-10T15:48:01.25-03:00</td>\n",
       "      <td>Macroeconômico</td>\n",
       "      <td>EIA</td>\n",
       "      <td>Energy Information Administration (EIA)</td>\n",
       "      <td>www.eia.doe.gov</td>\n",
       "      <td>Diária</td>\n",
       "      <td>US$</td>\n",
       "      <td>None</td>\n",
       "      <td>A</td>\n",
       "      <td>11</td>\n",
       "      <td>BRA</td>\n",
       "      <td>True</td>\n",
       "    </tr>\n",
       "  </tbody>\n",
       "</table>\n",
       "</div>"
      ],
      "text/plain": [
       "               CODE                                  NAME  \\\n",
       "0  EIA366_PBRENT366  Preço - petróleo bruto - Brent (FOB)   \n",
       "\n",
       "                                             COMMENT  \\\n",
       "0  Preço por barril do petróleo bruto tipo Brent....   \n",
       "\n",
       "                    LAST UPDATE       BIG THEME SOURCE ACRONYM  \\\n",
       "0  2024-01-10T15:48:01.25-03:00  Macroeconômico            EIA   \n",
       "\n",
       "                                    SOURCE       SOURCE URL FREQUENCY MEASURE  \\\n",
       "0  Energy Information Administration (EIA)  www.eia.doe.gov    Diária     US$   \n",
       "\n",
       "   UNIT SERIES STATUS  THEME CODE COUNTRY  NUMERICA  \n",
       "0  None             A          11     BRA      True  "
      ]
     },
     "execution_count": 17,
     "metadata": {},
     "output_type": "execute_result"
    }
   ],
   "source": [
    "idpy.metadata(\"EIA366_PBRENT366\")"
   ]
  },
  {
   "cell_type": "code",
   "execution_count": 39,
   "metadata": {},
   "outputs": [
    {
     "data": {
      "text/html": [
       "<div>\n",
       "<style scoped>\n",
       "    .dataframe tbody tr th:only-of-type {\n",
       "        vertical-align: middle;\n",
       "    }\n",
       "\n",
       "    .dataframe tbody tr th {\n",
       "        vertical-align: top;\n",
       "    }\n",
       "\n",
       "    .dataframe thead th {\n",
       "        text-align: right;\n",
       "    }\n",
       "</style>\n",
       "<table border=\"1\" class=\"dataframe\">\n",
       "  <thead>\n",
       "    <tr style=\"text-align: right;\">\n",
       "      <th></th>\n",
       "      <th>DATE</th>\n",
       "      <th>CODE</th>\n",
       "      <th>RAW DATE</th>\n",
       "      <th>DAY</th>\n",
       "      <th>MONTH</th>\n",
       "      <th>YEAR</th>\n",
       "      <th>VALUE (US$)</th>\n",
       "    </tr>\n",
       "  </thead>\n",
       "  <tbody>\n",
       "    <tr>\n",
       "      <th>0</th>\n",
       "      <td>1986-01-04</td>\n",
       "      <td>EIA366_PBRENT366</td>\n",
       "      <td>1986-01-04T00:00:00-02:00</td>\n",
       "      <td>4</td>\n",
       "      <td>1</td>\n",
       "      <td>1986</td>\n",
       "      <td>NaN</td>\n",
       "    </tr>\n",
       "    <tr>\n",
       "      <th>1</th>\n",
       "      <td>1986-01-05</td>\n",
       "      <td>EIA366_PBRENT366</td>\n",
       "      <td>1986-01-05T00:00:00-02:00</td>\n",
       "      <td>5</td>\n",
       "      <td>1</td>\n",
       "      <td>1986</td>\n",
       "      <td>NaN</td>\n",
       "    </tr>\n",
       "    <tr>\n",
       "      <th>2</th>\n",
       "      <td>1986-01-06</td>\n",
       "      <td>EIA366_PBRENT366</td>\n",
       "      <td>1986-01-06T00:00:00-02:00</td>\n",
       "      <td>6</td>\n",
       "      <td>1</td>\n",
       "      <td>1986</td>\n",
       "      <td>NaN</td>\n",
       "    </tr>\n",
       "    <tr>\n",
       "      <th>3</th>\n",
       "      <td>1986-01-07</td>\n",
       "      <td>EIA366_PBRENT366</td>\n",
       "      <td>1986-01-07T00:00:00-02:00</td>\n",
       "      <td>7</td>\n",
       "      <td>1</td>\n",
       "      <td>1986</td>\n",
       "      <td>NaN</td>\n",
       "    </tr>\n",
       "    <tr>\n",
       "      <th>4</th>\n",
       "      <td>1986-01-08</td>\n",
       "      <td>EIA366_PBRENT366</td>\n",
       "      <td>1986-01-08T00:00:00-02:00</td>\n",
       "      <td>8</td>\n",
       "      <td>1</td>\n",
       "      <td>1986</td>\n",
       "      <td>NaN</td>\n",
       "    </tr>\n",
       "  </tbody>\n",
       "</table>\n",
       "</div>"
      ],
      "text/plain": [
       "        DATE              CODE                   RAW DATE  DAY  MONTH  YEAR  \\\n",
       "0 1986-01-04  EIA366_PBRENT366  1986-01-04T00:00:00-02:00    4      1  1986   \n",
       "1 1986-01-05  EIA366_PBRENT366  1986-01-05T00:00:00-02:00    5      1  1986   \n",
       "2 1986-01-06  EIA366_PBRENT366  1986-01-06T00:00:00-02:00    6      1  1986   \n",
       "3 1986-01-07  EIA366_PBRENT366  1986-01-07T00:00:00-02:00    7      1  1986   \n",
       "4 1986-01-08  EIA366_PBRENT366  1986-01-08T00:00:00-02:00    8      1  1986   \n",
       "\n",
       "   VALUE (US$)  \n",
       "0          NaN  \n",
       "1          NaN  \n",
       "2          NaN  \n",
       "3          NaN  \n",
       "4          NaN  "
      ]
     },
     "execution_count": 39,
     "metadata": {},
     "output_type": "execute_result"
    }
   ],
   "source": [
    "df_ipea_brent_oil = idpy.timeseries(\"EIA366_PBRENT366\").reset_index()\n",
    "df_ipea_brent_oil.head()"
   ]
  },
  {
   "cell_type": "code",
   "execution_count": 40,
   "metadata": {},
   "outputs": [],
   "source": [
    "df_ipea_brent_oil = df_ipea_brent_oil[[\"DATE\", \"VALUE (US$)\"]].copy()\n",
    "df_ipea_brent_oil = df_ipea_brent_oil.rename(columns={\"DATE\": 'date', \"VALUE (US$)\": \"value\"})\n",
    "df_ipea_brent_oil = df_ipea_brent_oil.dropna(subset=\"value\")"
   ]
  },
  {
   "cell_type": "code",
   "execution_count": 42,
   "metadata": {},
   "outputs": [],
   "source": [
    "df_ipea_brent_oil.to_csv(r\"..\\source\\ipea_brent_oil.csv\", index=False)"
   ]
  },
  {
   "cell_type": "code",
   "execution_count": 49,
   "metadata": {},
   "outputs": [
    {
     "name": "stdout",
     "output_type": "stream",
     "text": [
      "<class 'pandas.core.frame.DataFrame'>\n",
      "RangeIndex: 11082 entries, 0 to 11081\n",
      "Data columns (total 2 columns):\n",
      " #   Column  Non-Null Count  Dtype  \n",
      "---  ------  --------------  -----  \n",
      " 0   date    11082 non-null  object \n",
      " 1   value   11082 non-null  float64\n",
      "dtypes: float64(1), object(1)\n",
      "memory usage: 173.3+ KB\n"
     ]
    }
   ],
   "source": [
    "df_ipea_brent_oil = pd.read_csv(\"..\\source\\ipea_brent_oil.csv\")\n",
    "df_ipea_brent_oil.info()"
   ]
  },
  {
   "cell_type": "code",
   "execution_count": 51,
   "metadata": {},
   "outputs": [
    {
     "name": "stdout",
     "output_type": "stream",
     "text": [
      "<class 'pandas.core.frame.DataFrame'>\n",
      "RangeIndex: 11082 entries, 0 to 11081\n",
      "Data columns (total 2 columns):\n",
      " #   Column  Non-Null Count  Dtype         \n",
      "---  ------  --------------  -----         \n",
      " 0   date    11082 non-null  datetime64[ns]\n",
      " 1   value   11082 non-null  float64       \n",
      "dtypes: datetime64[ns](1), float64(1)\n",
      "memory usage: 173.3 KB\n"
     ]
    }
   ],
   "source": [
    "df_ipea_brent_oil['date'] = pd.to_datetime(df_ipea_brent_oil['date'], format='%Y-%m-%d')\n",
    "df_ipea_brent_oil.info()"
   ]
  }
 ],
 "metadata": {
  "kernelspec": {
   "display_name": ".venv",
   "language": "python",
   "name": "python3"
  },
  "language_info": {
   "codemirror_mode": {
    "name": "ipython",
    "version": 3
   },
   "file_extension": ".py",
   "mimetype": "text/x-python",
   "name": "python",
   "nbconvert_exporter": "python",
   "pygments_lexer": "ipython3",
   "version": "3.9.13"
  }
 },
 "nbformat": 4,
 "nbformat_minor": 2
}
